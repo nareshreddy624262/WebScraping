{
 "cells": [
  {
   "cell_type": "code",
   "execution_count": 28,
   "id": "1288deea",
   "metadata": {},
   "outputs": [],
   "source": [
    "import requests\n",
    "from bs4 import BeautifulSoup\n",
    "import pandas as pd\n",
    "from tqdm import tqdm"
   ]
  },
  {
   "cell_type": "code",
   "execution_count": 44,
   "id": "f693a0d8",
   "metadata": {},
   "outputs": [
    {
     "name": "stderr",
     "output_type": "stream",
     "text": [
      "100%|██████████| 50/50 [02:16<00:00,  2.73s/it]\n"
     ]
    }
   ],
   "source": [
    "data = []\n",
    "for i in tqdm(range(1,51)):\n",
    "    link = \"https://books.toscrape.com/catalogue/page-\" + str(i) + \".html\"\n",
    "    \n",
    "    \n",
    "    res = requests.get(link) \n",
    "    soup = BeautifulSoup(res.text , \"html.parser\")\n",
    "    \n",
    "    for i in soup.find_all(\"li\" , class_ = \"col-xs-6 col-sm-4 col-md-3 col-lg-3\"):\n",
    "        \n",
    "        img_link = \"https://books.toscrape.com/\" + i.find(\"img\").get(\"src\")[-3]\n",
    "        book_title = i.find_all(\"a\")[-1].get(\"title\")\n",
    "        book_link = 'https://books.toscrape.com/catalogue/' + i.find_all(\"a\")[-1].get(\"href\")\n",
    "        rating = i.find(\"p\").get(\"class\")[-1]\n",
    "        price = i.find(\"p\" , class_ = \"price_color\").text[1:]\n",
    "        stock = i.find(\"p\" , class_ = \"instock availability\").text\n",
    "\n",
    "        data.append([book_title,rating,price,stock,book_link,img_link])\n",
    "        \n",
    "    \n",
    "    "
   ]
  },
  {
   "cell_type": "code",
   "execution_count": 45,
   "id": "c87ec909",
   "metadata": {},
   "outputs": [],
   "source": [
    "df = pd.DataFrame(data , columns = [\"book_title\", \" rating\" , \"price\" , \"stock\" , \"book_link\", \"img_link\"])"
   ]
  },
  {
   "cell_type": "code",
   "execution_count": 46,
   "id": "d0ea662b",
   "metadata": {},
   "outputs": [
    {
     "data": {
      "text/html": [
       "<div>\n",
       "<style scoped>\n",
       "    .dataframe tbody tr th:only-of-type {\n",
       "        vertical-align: middle;\n",
       "    }\n",
       "\n",
       "    .dataframe tbody tr th {\n",
       "        vertical-align: top;\n",
       "    }\n",
       "\n",
       "    .dataframe thead th {\n",
       "        text-align: right;\n",
       "    }\n",
       "</style>\n",
       "<table border=\"1\" class=\"dataframe\">\n",
       "  <thead>\n",
       "    <tr style=\"text-align: right;\">\n",
       "      <th></th>\n",
       "      <th>book_title</th>\n",
       "      <th>rating</th>\n",
       "      <th>price</th>\n",
       "      <th>stock</th>\n",
       "      <th>book_link</th>\n",
       "      <th>img_link</th>\n",
       "    </tr>\n",
       "  </thead>\n",
       "  <tbody>\n",
       "    <tr>\n",
       "      <th>0</th>\n",
       "      <td>A Light in the Attic</td>\n",
       "      <td>Three</td>\n",
       "      <td>£51.77</td>\n",
       "      <td>\\n\\n    \\n        In stock\\n    \\n</td>\n",
       "      <td>https://books.toscrape.com/catalogue/a-light-i...</td>\n",
       "      <td>https://books.toscrape.com/j</td>\n",
       "    </tr>\n",
       "    <tr>\n",
       "      <th>1</th>\n",
       "      <td>Tipping the Velvet</td>\n",
       "      <td>One</td>\n",
       "      <td>£53.74</td>\n",
       "      <td>\\n\\n    \\n        In stock\\n    \\n</td>\n",
       "      <td>https://books.toscrape.com/catalogue/tipping-t...</td>\n",
       "      <td>https://books.toscrape.com/j</td>\n",
       "    </tr>\n",
       "    <tr>\n",
       "      <th>2</th>\n",
       "      <td>Soumission</td>\n",
       "      <td>One</td>\n",
       "      <td>£50.10</td>\n",
       "      <td>\\n\\n    \\n        In stock\\n    \\n</td>\n",
       "      <td>https://books.toscrape.com/catalogue/soumissio...</td>\n",
       "      <td>https://books.toscrape.com/j</td>\n",
       "    </tr>\n",
       "    <tr>\n",
       "      <th>3</th>\n",
       "      <td>Sharp Objects</td>\n",
       "      <td>Four</td>\n",
       "      <td>£47.82</td>\n",
       "      <td>\\n\\n    \\n        In stock\\n    \\n</td>\n",
       "      <td>https://books.toscrape.com/catalogue/sharp-obj...</td>\n",
       "      <td>https://books.toscrape.com/j</td>\n",
       "    </tr>\n",
       "    <tr>\n",
       "      <th>4</th>\n",
       "      <td>Sapiens: A Brief History of Humankind</td>\n",
       "      <td>Five</td>\n",
       "      <td>£54.23</td>\n",
       "      <td>\\n\\n    \\n        In stock\\n    \\n</td>\n",
       "      <td>https://books.toscrape.com/catalogue/sapiens-a...</td>\n",
       "      <td>https://books.toscrape.com/j</td>\n",
       "    </tr>\n",
       "  </tbody>\n",
       "</table>\n",
       "</div>"
      ],
      "text/plain": [
       "                              book_title  rating   price  \\\n",
       "0                   A Light in the Attic   Three  £51.77   \n",
       "1                     Tipping the Velvet     One  £53.74   \n",
       "2                             Soumission     One  £50.10   \n",
       "3                          Sharp Objects    Four  £47.82   \n",
       "4  Sapiens: A Brief History of Humankind    Five  £54.23   \n",
       "\n",
       "                                stock  \\\n",
       "0  \\n\\n    \\n        In stock\\n    \\n   \n",
       "1  \\n\\n    \\n        In stock\\n    \\n   \n",
       "2  \\n\\n    \\n        In stock\\n    \\n   \n",
       "3  \\n\\n    \\n        In stock\\n    \\n   \n",
       "4  \\n\\n    \\n        In stock\\n    \\n   \n",
       "\n",
       "                                           book_link  \\\n",
       "0  https://books.toscrape.com/catalogue/a-light-i...   \n",
       "1  https://books.toscrape.com/catalogue/tipping-t...   \n",
       "2  https://books.toscrape.com/catalogue/soumissio...   \n",
       "3  https://books.toscrape.com/catalogue/sharp-obj...   \n",
       "4  https://books.toscrape.com/catalogue/sapiens-a...   \n",
       "\n",
       "                       img_link  \n",
       "0  https://books.toscrape.com/j  \n",
       "1  https://books.toscrape.com/j  \n",
       "2  https://books.toscrape.com/j  \n",
       "3  https://books.toscrape.com/j  \n",
       "4  https://books.toscrape.com/j  "
      ]
     },
     "execution_count": 46,
     "metadata": {},
     "output_type": "execute_result"
    }
   ],
   "source": [
    "df.head()"
   ]
  },
  {
   "cell_type": "code",
   "execution_count": 47,
   "id": "fd1ca142",
   "metadata": {},
   "outputs": [],
   "source": [
    "df.to_csv(\"1000_book_data.csv\")"
   ]
  },
  {
   "cell_type": "code",
   "execution_count": 48,
   "id": "55e7b86c",
   "metadata": {},
   "outputs": [
    {
     "data": {
      "text/plain": [
       "0      https://books.toscrape.com/catalogue/a-light-i...\n",
       "1      https://books.toscrape.com/catalogue/tipping-t...\n",
       "2      https://books.toscrape.com/catalogue/soumissio...\n",
       "3      https://books.toscrape.com/catalogue/sharp-obj...\n",
       "4      https://books.toscrape.com/catalogue/sapiens-a...\n",
       "                             ...                        \n",
       "995    https://books.toscrape.com/catalogue/alice-in-...\n",
       "996    https://books.toscrape.com/catalogue/ajin-demi...\n",
       "997    https://books.toscrape.com/catalogue/a-spys-de...\n",
       "998    https://books.toscrape.com/catalogue/1st-to-di...\n",
       "999    https://books.toscrape.com/catalogue/1000-plac...\n",
       "Name: book_link, Length: 1000, dtype: object"
      ]
     },
     "execution_count": 48,
     "metadata": {},
     "output_type": "execute_result"
    }
   ],
   "source": [
    "df[\"book_link\"]"
   ]
  },
  {
   "cell_type": "code",
   "execution_count": null,
   "id": "ef576837",
   "metadata": {},
   "outputs": [],
   "source": []
  },
  {
   "cell_type": "code",
   "execution_count": null,
   "id": "8df9d200",
   "metadata": {},
   "outputs": [],
   "source": []
  },
  {
   "cell_type": "code",
   "execution_count": null,
   "id": "cfc615f6",
   "metadata": {},
   "outputs": [],
   "source": []
  },
  {
   "cell_type": "code",
   "execution_count": null,
   "id": "3d6df9d5",
   "metadata": {},
   "outputs": [],
   "source": []
  },
  {
   "cell_type": "code",
   "execution_count": null,
   "id": "c7088017",
   "metadata": {},
   "outputs": [],
   "source": []
  }
 ],
 "metadata": {
  "kernelspec": {
   "display_name": "Python 3 (ipykernel)",
   "language": "python",
   "name": "python3"
  },
  "language_info": {
   "codemirror_mode": {
    "name": "ipython",
    "version": 3
   },
   "file_extension": ".py",
   "mimetype": "text/x-python",
   "name": "python",
   "nbconvert_exporter": "python",
   "pygments_lexer": "ipython3",
   "version": "3.11.5"
  }
 },
 "nbformat": 4,
 "nbformat_minor": 5
}
